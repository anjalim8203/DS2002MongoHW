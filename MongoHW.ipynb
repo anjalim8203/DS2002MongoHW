{
  "nbformat": 4,
  "nbformat_minor": 0,
  "metadata": {
    "colab": {
      "provenance": []
    },
    "kernelspec": {
      "name": "python3",
      "display_name": "Python 3"
    },
    "language_info": {
      "name": "python"
    }
  },
  "cells": [
    {
      "cell_type": "code",
      "execution_count": 3,
      "metadata": {
        "colab": {
          "base_uri": "https://localhost:8080/"
        },
        "id": "0O0BfagssS-j",
        "outputId": "029f1696-1e25-4423-a45a-97f0163a1833"
      },
      "outputs": [
        {
          "output_type": "stream",
          "name": "stdout",
          "text": [
            "Collecting pymongo\n",
            "  Downloading pymongo-4.10.1-cp310-cp310-manylinux_2_17_x86_64.manylinux2014_x86_64.whl.metadata (22 kB)\n",
            "Requirement already satisfied: certifi in /usr/local/lib/python3.10/dist-packages (2024.8.30)\n",
            "Collecting dnspython<3.0.0,>=1.16.0 (from pymongo)\n",
            "  Downloading dnspython-2.7.0-py3-none-any.whl.metadata (5.8 kB)\n",
            "Downloading pymongo-4.10.1-cp310-cp310-manylinux_2_17_x86_64.manylinux2014_x86_64.whl (1.4 MB)\n",
            "\u001b[2K   \u001b[90m━━━━━━━━━━━━━━━━━━━━━━━━━━━━━━━━━━━━━━━━\u001b[0m \u001b[32m1.4/1.4 MB\u001b[0m \u001b[31m21.1 MB/s\u001b[0m eta \u001b[36m0:00:00\u001b[0m\n",
            "\u001b[?25hDownloading dnspython-2.7.0-py3-none-any.whl (313 kB)\n",
            "\u001b[2K   \u001b[90m━━━━━━━━━━━━━━━━━━━━━━━━━━━━━━━━━━━━━━━━\u001b[0m \u001b[32m313.6/313.6 kB\u001b[0m \u001b[31m25.8 MB/s\u001b[0m eta \u001b[36m0:00:00\u001b[0m\n",
            "\u001b[?25hInstalling collected packages: dnspython, pymongo\n",
            "Successfully installed dnspython-2.7.0 pymongo-4.10.1\n"
          ]
        }
      ],
      "source": [
        "!pip install --upgrade pymongo certifi"
      ]
    },
    {
      "cell_type": "code",
      "source": [
        "\n",
        "\n",
        "# Install pymongo for MongoDB connection\n",
        "\n",
        "\n",
        "# Import necessary libraries\n",
        "from pymongo import MongoClient\n",
        "import pprint\n",
        "\n",
        "# Replace with your MongoDB Atlas connection string\n",
        "connection_string = \"mongodb+srv://wfn7ad:<password>@cluster0practice.tldyf.mongodb.net/?retryWrites=true&w=majority&appName=Cluster0Practice\"\n",
        "\n",
        "# Connect to MongoDB Atlas\n",
        "client = MongoClient(connection_string)\n",
        "\n",
        "# Access the sample_mflix database and the movies collection\n",
        "db = client['sample_mflix']\n",
        "collection = db['movies']\n"
      ],
      "metadata": {
        "id": "5hkC64vlsgFf"
      },
      "execution_count": 4,
      "outputs": []
    },
    {
      "cell_type": "markdown",
      "source": [
        "Exercise 1. Basic Searching and Filtering"
      ],
      "metadata": {
        "id": "dilfSAfT57V2"
      }
    },
    {
      "cell_type": "code",
      "source": [
        "first_action_movie = collection.find_one({'genres': 'Action'})"
      ],
      "metadata": {
        "colab": {
          "base_uri": "https://localhost:8080/"
        },
        "id": "cRHG7LievNCN",
        "outputId": "64983041-7479-428c-a0ec-1e23bdfd4586"
      },
      "execution_count": 10,
      "outputs": [
        {
          "output_type": "stream",
          "name": "stdout",
          "text": [
            "First Action Movie: {'_id': ObjectId('573a1390f29313caabcd5293'), 'plot': \"Young Pauline is left a lot of money when her wealthy uncle dies. However, her uncle's secretary has been named as her guardian until she marries, at which time she will officially take ...\", 'genres': ['Action'], 'runtime': 199, 'cast': ['Pearl White', 'Crane Wilbur', 'Paul Panzer', 'Edward Josè'], 'num_mflix_comments': 0, 'poster': 'https://m.media-amazon.com/images/M/MV5BMzgxODk1Mzk2Ml5BMl5BanBnXkFtZTgwMDg0NzkwMjE@._V1_SY1000_SX677_AL_.jpg', 'title': 'The Perils of Pauline', 'fullplot': 'Young Pauline is left a lot of money when her wealthy uncle dies. However, her uncle\\'s secretary has been named as her guardian until she marries, at which time she will officially take possession of her inheritance. Meanwhile, her \"guardian\" and his confederates constantly come up with schemes to get rid of Pauline so that he can get his hands on the money himself.', 'languages': ['English'], 'released': datetime.datetime(1914, 3, 23, 0, 0), 'directors': ['Louis J. Gasnier', 'Donald MacKenzie'], 'writers': ['Charles W. Goddard (screenplay)', 'Basil Dickey (screenplay)', 'Charles W. Goddard (novel)', 'George B. Seitz', 'Bertram Millhauser'], 'awards': {'wins': 1, 'nominations': 0, 'text': '1 win.'}, 'lastupdated': '2015-09-12 00:01:18.647000000', 'year': 1914, 'imdb': {'rating': 7.6, 'votes': 744, 'id': 4465}, 'countries': ['USA'], 'type': 'movie', 'tomatoes': {'viewer': {'rating': 2.8, 'numReviews': 9}, 'production': 'Pathè Frères', 'lastUpdated': datetime.datetime(2015, 9, 11, 17, 46, 19)}}\n"
          ]
        }
      ]
    },
    {
      "cell_type": "code",
      "source": [
        "# 5 movies released after the year 2000 .\n",
        "movies_after_2000 = collection.find({\"year\": {\"$gt\": 2000}}).limit(5)"
      ],
      "metadata": {
        "id": "FLjuNaHvIgaX"
      },
      "execution_count": 11,
      "outputs": []
    },
    {
      "cell_type": "code",
      "source": [
        "# 5 movies where the IMDb rating is greater than 8.5.\n",
        "high_rated_movies = collection.find({\"imdb.rating\": {\"$gt\": 8.5}}).limit(5)"
      ],
      "metadata": {
        "id": "ZqnTE6apwM6s"
      },
      "execution_count": 12,
      "outputs": []
    },
    {
      "cell_type": "code",
      "source": [
        "# all movies where the genre contains both \"Action\" and \"Adventure\".\n",
        "action_adventure_movies = collection.find({\"genres\": {\"$all\": [\"Action\", \"Adventure\"]}}).limit(5)"
      ],
      "metadata": {
        "id": "Y_Y6AKfB5Qxa"
      },
      "execution_count": 13,
      "outputs": []
    },
    {
      "cell_type": "markdown",
      "source": [
        "Exercise 2. Sorting results"
      ],
      "metadata": {
        "id": "TEupdy3C6Bdi"
      }
    },
    {
      "cell_type": "code",
      "source": [
        "# 5 movies where the genre is \"Comedy\" and sort them by IMDb rating in descending order .\n",
        "sorted_comedy_movies = collection.find({\"genres\": \"Comedy\"}).sort(\"imdb.rating\", -1).limit(5)"
      ],
      "metadata": {
        "id": "jtNEosfs6D9s"
      },
      "execution_count": 14,
      "outputs": []
    },
    {
      "cell_type": "code",
      "source": [
        "# 5 movies where the genre is \"Drama\" and sort them by release year in ascending order.\n",
        "sorted_drama_movies = collection.find({\"genres\": \"Drama\"}).sort(\"year\", 1).limit(5)"
      ],
      "metadata": {
        "id": "oB-ESJMd6RRl"
      },
      "execution_count": 15,
      "outputs": []
    },
    {
      "cell_type": "markdown",
      "source": [
        "Exercise 3. Aggregation Pipelines"
      ],
      "metadata": {
        "id": "iPrIhqGv6aL0"
      }
    },
    {
      "cell_type": "code",
      "source": [
        "# aggregation pipeline that calculates the average IMDb rating for each genre (Return the top 5 genres).\n",
        "avg_rating_by_genre = collection.aggregate([\n",
        "    {\"$unwind\": \"$genres\"},\n",
        "    {\"$group\": {\"_id\": \"$genres\", \"avg_rating\": {\"$avg\": \"$imdb.rating\"}}},\n",
        "    {\"$sort\": {\"avg_rating\": -1}},\n",
        "    {\"$limit\": 5}\n",
        "])"
      ],
      "metadata": {
        "id": "dIJU4fLg6Xwt"
      },
      "execution_count": 16,
      "outputs": []
    },
    {
      "cell_type": "code",
      "source": [
        "# 3.2 Write an aggregation pipeline to find the top 5 directors by the average IMDb rating of their movies.\n",
        "top_directors = collection.aggregate([\n",
        "    {\"$group\": {\"_id\": \"$directors\", \"avg_rating\": {\"$avg\": \"$imdb.rating\"}}},\n",
        "    {\"$sort\": {\"avg_rating\": -1}},\n",
        "    {\"$limit\": 5}\n",
        "])"
      ],
      "metadata": {
        "id": "2zaRnQ906hoo"
      },
      "execution_count": 17,
      "outputs": []
    },
    {
      "cell_type": "code",
      "source": [
        "# 3.3 Write an aggregation pipeline to calculate the total number of movies released in each year (Sort the results by the year).\n",
        "movies_per_year = collection.aggregate([\n",
        "    {\"$group\": {\"_id\": \"$year\", \"total_movies\": {\"$sum\": 1}}},\n",
        "    {\"$sort\": {\"_id\": 1}}\n",
        "])"
      ],
      "metadata": {
        "id": "XFlKMe0q6kQ9"
      },
      "execution_count": 18,
      "outputs": []
    },
    {
      "cell_type": "markdown",
      "source": [
        "Exercise 4. Updated and Deleting Documents"
      ],
      "metadata": {
        "id": "t-Cvp7XI6nO_"
      }
    },
    {
      "cell_type": "code",
      "source": [
        "# 4.1 Write a query to update the IMDb rating of a movie with the title \"The Godfather\" to 9.5.\n",
        "collection.update_one({\"title\": \"The Godfather\"}, {\"$set\": {\"imdb.rating\": 9.5}})"
      ],
      "metadata": {
        "colab": {
          "base_uri": "https://localhost:8080/"
        },
        "id": "zFVxW4Kz6lcc",
        "outputId": "0bb5550c-d6a8-42d9-cbcb-edc2e8176ed3"
      },
      "execution_count": 19,
      "outputs": [
        {
          "output_type": "execute_result",
          "data": {
            "text/plain": [
              "UpdateResult({'n': 1, 'electionId': ObjectId('7fffffff00000000000000a6'), 'opTime': {'ts': Timestamp(1728337072, 32), 't': 166}, 'nModified': 1, 'ok': 1.0, '$clusterTime': {'clusterTime': Timestamp(1728337072, 32), 'signature': {'hash': b'\\x9cg\\xd6Qz\\xde\\x7f$\\x97q,\\x1f\\xfaN\\xe5\\xdfOH\\xb95', 'keyId': 7376187726187462660}}, 'operationTime': Timestamp(1728337072, 32), 'updatedExisting': True}, acknowledged=True)"
            ]
          },
          "metadata": {},
          "execution_count": 19
        }
      ]
    },
    {
      "cell_type": "code",
      "source": [
        "# 4.2 Write a query to update all movies where the genre is \"Horror\" and set their IMDb rating to 6.0 if it is currently null.\n",
        "collection.update_many({\"genres\": \"Horror\", \"imdb.rating\": {\"$exists\": False}}, {\"$set\": {\"imdb.rating\": 6.0}})"
      ],
      "metadata": {
        "colab": {
          "base_uri": "https://localhost:8080/"
        },
        "id": "8XtRwGBV6tJo",
        "outputId": "5d1e4c3c-78d6-4dcd-a526-3791e84d522a"
      },
      "execution_count": 20,
      "outputs": [
        {
          "output_type": "execute_result",
          "data": {
            "text/plain": [
              "UpdateResult({'n': 0, 'electionId': ObjectId('7fffffff00000000000000a6'), 'opTime': {'ts': Timestamp(1728337087, 29), 't': 166}, 'nModified': 0, 'ok': 1.0, '$clusterTime': {'clusterTime': Timestamp(1728337087, 29), 'signature': {'hash': b'\\xf6\\xab\\n\\x82\\x8b\"V\\x1f\\xf9\\xce\\x93\\xa7-@f\\xf3w>\\xf64', 'keyId': 7376187726187462660}}, 'operationTime': Timestamp(1728337087, 29), 'updatedExisting': False}, acknowledged=True)"
            ]
          },
          "metadata": {},
          "execution_count": 20
        }
      ]
    },
    {
      "cell_type": "code",
      "source": [
        "# 4.3 Write a query to delete all movies that were released before the year 1950.\n",
        "collection.delete_many({\"year\": {\"$lt\": 1950}})"
      ],
      "metadata": {
        "colab": {
          "base_uri": "https://localhost:8080/"
        },
        "id": "Mcbs5u8M6wxy",
        "outputId": "64adbf6e-2b3b-4591-9f8a-4fec49a4281f"
      },
      "execution_count": 21,
      "outputs": [
        {
          "output_type": "execute_result",
          "data": {
            "text/plain": [
              "DeleteResult({'n': 640, 'electionId': ObjectId('7fffffff00000000000000a6'), 'opTime': {'ts': Timestamp(1728337093, 525), 't': 166}, 'ok': 1.0, '$clusterTime': {'clusterTime': Timestamp(1728337093, 534), 'signature': {'hash': b'\\xbf>#\\x80\\x99\\xaa\\xe7h\\xe9\\x97\\x10\\xa0\\x92\\xd3\\x04F\\xcb\\x99\\xc0E', 'keyId': 7376187726187462660}}, 'operationTime': Timestamp(1728337093, 525)}, acknowledged=True)"
            ]
          },
          "metadata": {},
          "execution_count": 21
        }
      ]
    },
    {
      "cell_type": "markdown",
      "source": [
        "Exercise 5. Text Search"
      ],
      "metadata": {
        "id": "-Cr7VP4E6zRR"
      }
    },
    {
      "cell_type": "code",
      "source": [
        "# 5.1 Ensure the title field is indexed for text search in MongoDB and write a query to search for movies that contain the word \"love\" in their title.\n",
        "love_movies = collection.find({\"$text\": {\"$search\": \"love\"}})"
      ],
      "metadata": {
        "id": "j8GYn3fZ6yBP"
      },
      "execution_count": 22,
      "outputs": []
    },
    {
      "cell_type": "code",
      "source": [
        "# 5.2 Write a text search query to find movies where the word \"war\" appears in the title or plot, sorted by IMDb rating (Return only the top 5 results).\n",
        "war_movies = collection.find({\"$text\": {\"$search\": \"war\"}}).sort(\"imdb.rating\", -1).limit(5)"
      ],
      "metadata": {
        "id": "1Jb1bxT363UH"
      },
      "execution_count": 23,
      "outputs": []
    },
    {
      "cell_type": "markdown",
      "source": [
        "Exercise 6. Combining Multiple Queries (Bonus Exercise)"
      ],
      "metadata": {
        "id": "AIG1gDyc65rM"
      }
    },
    {
      "cell_type": "code",
      "source": [
        "# find all movies where the genre is \"Action\" and the IMDb rating is greater than 8 (Sort the results by release year in descending order).\n",
        "action_high_rated_movies = collection.find({\"genres\": \"Action\", \"imdb.rating\": {\"$gt\": 8}}).sort(\"year\", -1)"
      ],
      "metadata": {
        "id": "F1bfFj-E64lo"
      },
      "execution_count": 27,
      "outputs": []
    },
    {
      "cell_type": "code",
      "source": [
        "# find 3 movies where the directors contain \"Christopher Nolan\" and the IMDb rating is greater than 8\n",
        "nolan_movies = collection.find({\"directors\": \"Christopher Nolan\", \"imdb.rating\": {\"$gt\": 8}}).sort(\"imdb.rating\", -1).limit(3)"
      ],
      "metadata": {
        "id": "JfG6LqAJ6_4w"
      },
      "execution_count": 26,
      "outputs": []
    },
    {
      "cell_type": "code",
      "source": [],
      "metadata": {
        "id": "N5nXYcVs7B04"
      },
      "execution_count": null,
      "outputs": []
    }
  ]
}